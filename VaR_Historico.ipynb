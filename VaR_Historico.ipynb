{
 "cells": [
  {
   "cell_type": "markdown",
   "id": "eecfd438",
   "metadata": {},
   "source": [
    "# Cálculo do VaR para uma carteira de ações"
   ]
  },
  {
   "cell_type": "raw",
   "id": "81e07936",
   "metadata": {},
   "source": [
    "# Este estudo foi realizado com o objetivo de consolidar meus aprendizados em programação Python, aplicando tais conhecimentos  em um assunto relacionado a Finanças, área a qual atuo profissionalmente e que também já realizei algumas formações.\n",
    "\n",
    "Fazendo uma breve introdução do assunto abordado, podemos  definir o VaR (Value at Risk ou Valor em Risco) como um indicador de risco que estima o potencial de perda máxima de um ativo ou mesmo carteiras de ativos para um determinado horizonte de tempo e certo nível de confiança.\n",
    "\n",
    "Para melhor entendimento, imagine uma carteira de investimentos com um VaR de R$ 5 milhões para 1 dia, considerando um nível de confiança de 95%, isto significa que a maior perda que esta carteira de investimentos pode ter neste dia é de R$ 5 milhões, porém com uma chance de 5% de essa perda superar os R$ 5 milhões.\n",
    "\n",
    "Desta forma, simulei um pequeno portfólio de ações a fim de realizar tal cálculo, selecionando papéis de empresas de setores diversos com o objetivo de reduzir os riscos da carteira. Sendo escolhidas as ações do Grupo CCR (Infraestrutura), Banco do Brasil (Bancário), JBS (Alimentos) e TIM (Telecomunicações).\n",
    "\n",
    "Utilizei o modelo de simulações históricas para o cálculo do VaR e, em seguida, realizei o Back Testing para sua validação.\n",
    "\n",
    "Os dados referentes a estes papéis foram obtidos a partir da instalação do API do Yahoo Finance, possibilitando a importação das informações relativas a eles no período desejado."
   ]
  },
  {
   "cell_type": "code",
   "execution_count": 1,
   "id": "d78a5f42",
   "metadata": {},
   "outputs": [
    {
     "name": "stdout",
     "output_type": "stream",
     "text": [
      "Requirement already satisfied: yfinance in c:\\users\\diego\\anaconda3\\lib\\site-packages (0.1.74)\n",
      "Requirement already satisfied: pandas>=0.24.0 in c:\\users\\diego\\anaconda3\\lib\\site-packages (from yfinance) (1.2.4)\n",
      "Requirement already satisfied: lxml>=4.5.1 in c:\\users\\diego\\anaconda3\\lib\\site-packages (from yfinance) (4.6.3)\n",
      "Requirement already satisfied: multitasking>=0.0.7 in c:\\users\\diego\\anaconda3\\lib\\site-packages (from yfinance) (0.0.11)\n",
      "Requirement already satisfied: numpy>=1.15 in c:\\users\\diego\\anaconda3\\lib\\site-packages (from yfinance) (1.20.1)\n",
      "Requirement already satisfied: requests>=2.26 in c:\\users\\diego\\anaconda3\\lib\\site-packages (from yfinance) (2.28.1)\n",
      "Requirement already satisfied: pytz>=2017.3 in c:\\users\\diego\\anaconda3\\lib\\site-packages (from pandas>=0.24.0->yfinance) (2021.1)\n",
      "Requirement already satisfied: python-dateutil>=2.7.3 in c:\\users\\diego\\anaconda3\\lib\\site-packages (from pandas>=0.24.0->yfinance) (2.8.1)\n",
      "Requirement already satisfied: six>=1.5 in c:\\users\\diego\\anaconda3\\lib\\site-packages (from python-dateutil>=2.7.3->pandas>=0.24.0->yfinance) (1.15.0)\n",
      "Requirement already satisfied: certifi>=2017.4.17 in c:\\users\\diego\\anaconda3\\lib\\site-packages (from requests>=2.26->yfinance) (2020.12.5)\n",
      "Requirement already satisfied: idna<4,>=2.5 in c:\\users\\diego\\anaconda3\\lib\\site-packages (from requests>=2.26->yfinance) (2.10)\n",
      "Requirement already satisfied: charset-normalizer<3,>=2 in c:\\users\\diego\\anaconda3\\lib\\site-packages (from requests>=2.26->yfinance) (2.1.0)\n",
      "Requirement already satisfied: urllib3<1.27,>=1.21.1 in c:\\users\\diego\\anaconda3\\lib\\site-packages (from requests>=2.26->yfinance) (1.26.4)\n",
      "Requirement already satisfied: yahoofinancials in c:\\users\\diego\\anaconda3\\lib\\site-packages (1.6)\n",
      "Requirement already satisfied: beautifulsoup4 in c:\\users\\diego\\anaconda3\\lib\\site-packages (from yahoofinancials) (4.9.3)\n",
      "Requirement already satisfied: pytz in c:\\users\\diego\\anaconda3\\lib\\site-packages (from yahoofinancials) (2021.1)\n",
      "Requirement already satisfied: soupsieve>1.2 in c:\\users\\diego\\anaconda3\\lib\\site-packages (from beautifulsoup4->yahoofinancials) (2.2.1)\n"
     ]
    }
   ],
   "source": [
    "!pip install yfinance\n",
    "!pip install yahoofinancials\n",
    "import yfinance as yf\n",
    "import pandas as pd\n",
    "import numpy as np\n",
    "import math as mt"
   ]
  },
  {
   "cell_type": "markdown",
   "id": "145c6ec1",
   "metadata": {},
   "source": [
    "Após a instalação do API yfinance, definimos uma variável para o Ticker de cada ação a fim de facilitar a utilização desta informação nos trechos seguintes do programa.\n",
    "\n",
    "Em seguida, fora extraido os dados históricos dos papéis escolhidos para um período desejado e podemos observar que nesta parte já utilizamos a variável definida para o Ticker do papel."
   ]
  },
  {
   "cell_type": "code",
   "execution_count": 2,
   "id": "3ef666ca",
   "metadata": {},
   "outputs": [],
   "source": [
    "CCR = yf.Ticker('CCRO3.SA')\n",
    "BB = yf.Ticker('BBAS3.SA')\n",
    "JBS = yf.Ticker('JBSS3.SA')\n",
    "TIM = yf.Ticker('TIMS3.SA')\n",
    "\n",
    "CCR_data = CCR.history( start ='2021-06-30', end = '2022-07-01')\n",
    "BB_data = BB.history(  start ='2021-06-30', end = '2022-07-01')\n",
    "JBS_data = JBS.history( start ='2021-06-30', end = '2022-07-01')\n",
    "TIM_data = TIM.history( start ='2021-06-30', end = '2022-07-01')\n"
   ]
  },
  {
   "cell_type": "markdown",
   "id": "0b08f34e",
   "metadata": {},
   "source": [
    "Inicialmente, calculamos o volume na carteira dos respectivos pepéis e a partir da cotações diárias de fechamento de cada um deles e das suas quantidades em carteira, que neste estudo será de 1000 cada ativo.\n",
    "\n",
    "Em seguida, obtemos as posições diárias da carteira e os devidos retornos, o quais usaremos para o cálculo do VaR."
   ]
  },
  {
   "cell_type": "code",
   "execution_count": 3,
   "id": "b2ab68a1",
   "metadata": {},
   "outputs": [
    {
     "data": {
      "text/html": [
       "<div>\n",
       "<style scoped>\n",
       "    .dataframe tbody tr th:only-of-type {\n",
       "        vertical-align: middle;\n",
       "    }\n",
       "\n",
       "    .dataframe tbody tr th {\n",
       "        vertical-align: top;\n",
       "    }\n",
       "\n",
       "    .dataframe thead th {\n",
       "        text-align: right;\n",
       "    }\n",
       "</style>\n",
       "<table border=\"1\" class=\"dataframe\">\n",
       "  <thead>\n",
       "    <tr style=\"text-align: right;\">\n",
       "      <th></th>\n",
       "      <th>Posicao</th>\n",
       "      <th>Retorno</th>\n",
       "    </tr>\n",
       "    <tr>\n",
       "      <th>Date</th>\n",
       "      <th></th>\n",
       "      <th></th>\n",
       "    </tr>\n",
       "  </thead>\n",
       "  <tbody>\n",
       "    <tr>\n",
       "      <th>2021-06-30</th>\n",
       "      <td>79556.023598</td>\n",
       "      <td>0.000000</td>\n",
       "    </tr>\n",
       "    <tr>\n",
       "      <th>2021-07-01</th>\n",
       "      <td>79199.604034</td>\n",
       "      <td>356.419563</td>\n",
       "    </tr>\n",
       "    <tr>\n",
       "      <th>2021-07-02</th>\n",
       "      <td>79872.173309</td>\n",
       "      <td>-672.569275</td>\n",
       "    </tr>\n",
       "    <tr>\n",
       "      <th>2021-07-05</th>\n",
       "      <td>79561.988831</td>\n",
       "      <td>310.184479</td>\n",
       "    </tr>\n",
       "    <tr>\n",
       "      <th>2021-07-06</th>\n",
       "      <td>78117.422104</td>\n",
       "      <td>1444.566727</td>\n",
       "    </tr>\n",
       "    <tr>\n",
       "      <th>...</th>\n",
       "      <td>...</td>\n",
       "      <td>...</td>\n",
       "    </tr>\n",
       "    <tr>\n",
       "      <th>2022-06-24</th>\n",
       "      <td>90206.725121</td>\n",
       "      <td>-351.645470</td>\n",
       "    </tr>\n",
       "    <tr>\n",
       "      <th>2022-06-27</th>\n",
       "      <td>91028.490067</td>\n",
       "      <td>-821.764946</td>\n",
       "    </tr>\n",
       "    <tr>\n",
       "      <th>2022-06-28</th>\n",
       "      <td>91247.765541</td>\n",
       "      <td>-219.275475</td>\n",
       "    </tr>\n",
       "    <tr>\n",
       "      <th>2022-06-29</th>\n",
       "      <td>90360.726357</td>\n",
       "      <td>887.039185</td>\n",
       "    </tr>\n",
       "    <tr>\n",
       "      <th>2022-06-30</th>\n",
       "      <td>89662.952423</td>\n",
       "      <td>697.773933</td>\n",
       "    </tr>\n",
       "  </tbody>\n",
       "</table>\n",
       "<p>250 rows × 2 columns</p>\n",
       "</div>"
      ],
      "text/plain": [
       "                 Posicao      Retorno\n",
       "Date                                 \n",
       "2021-06-30  79556.023598     0.000000\n",
       "2021-07-01  79199.604034   356.419563\n",
       "2021-07-02  79872.173309  -672.569275\n",
       "2021-07-05  79561.988831   310.184479\n",
       "2021-07-06  78117.422104  1444.566727\n",
       "...                  ...          ...\n",
       "2022-06-24  90206.725121  -351.645470\n",
       "2022-06-27  91028.490067  -821.764946\n",
       "2022-06-28  91247.765541  -219.275475\n",
       "2022-06-29  90360.726357   887.039185\n",
       "2022-06-30  89662.952423   697.773933\n",
       "\n",
       "[250 rows x 2 columns]"
      ]
     },
     "execution_count": 3,
     "metadata": {},
     "output_type": "execute_result"
    }
   ],
   "source": [
    "Qt = 1000\n",
    "\n",
    "\n",
    "#Cálculo das posições dos ativos\n",
    "CCR_data['PosicaoC'] = CCR_data['Close']*Qt\n",
    "BB_data['PosicaoB'] = BB_data['Close']*Qt\n",
    "JBS_data['PosicaoJ'] = JBS_data['Close']*Qt\n",
    "TIM_data['PosicaoT'] = TIM_data['Close']*Qt\n",
    "\n",
    "\n",
    "#Criação de DataFrame das posições diárias da carteira, que é a soma da posição dos ativos\n",
    "Posicao = pd.DataFrame(CCR_data['PosicaoC']+BB_data['PosicaoB']+JBS_data['PosicaoJ']+TIM_data['PosicaoT'], \n",
    "                       columns = ['Posicao'])\n",
    "\n",
    "\n",
    "#Retorno calculado pela diferença entre a posição de um dia e a do dia anterior\n",
    "\n",
    "Posicao['Retorno'] = (Posicao['Posicao'].shift(1) - Posicao['Posicao']).fillna(0)\n",
    "Posicao\n"
   ]
  },
  {
   "cell_type": "markdown",
   "id": "52a1b51f",
   "metadata": {},
   "source": [
    "Como estou considerando um nível de confiança de 95%, podemos encontrar o VaR através do percentil 5%, que é o valor que poderá se superado em 5% dos caso."
   ]
  },
  {
   "cell_type": "code",
   "execution_count": 4,
   "id": "940bb753",
   "metadata": {},
   "outputs": [
    {
     "data": {
      "text/plain": [
       "1931.94"
      ]
     },
     "execution_count": 4,
     "metadata": {},
     "output_type": "execute_result"
    }
   ],
   "source": [
    "var = round(np.percentile(Posicao['Retorno'],5)*(-1),2)\n",
    "var"
   ]
  },
  {
   "cell_type": "markdown",
   "id": "84eff8f5",
   "metadata": {},
   "source": [
    "Calculado o VaR, precisamos agora fazer o Back Testing do modelo utilizado, com o objetivo de validá-lo. Ele é realizado \n",
    "a partir do levantamento da quantidade de dias que excederam a perda estimada no VaR, e com isso, espera-se que estejam em\n",
    "uma porcentagem igual ou aproximada ao nível de significância, que neste estudo é de 5%."
   ]
  },
  {
   "cell_type": "markdown",
   "id": "97a646fa",
   "metadata": {},
   "source": [
    "Para comparação dos retornos diários com o VaR foi preciso utilizar uma estrutura de Looping For, onde inicializamos uma variável (a) que receberá o valor do VaR e outra variável inicializada como zero e que ao longo do Loop receberá a contagem dos dias que a perda da carteira foi superior ao VaR (b)."
   ]
  },
  {
   "cell_type": "code",
   "execution_count": 12,
   "id": "4846d532",
   "metadata": {},
   "outputs": [
    {
     "data": {
      "text/plain": [
       "14"
      ]
     },
     "execution_count": 12,
     "metadata": {},
     "output_type": "execute_result"
    }
   ],
   "source": [
    "#Transformei a coluna Retorno em lista a fim de facilitar sua manipulação no comando de Loop\n",
    "\n",
    "a = var\n",
    "\n",
    "Carteira = Posicao['Retorno'].tolist()\n",
    "b=0\n",
    "for i in Carteira:\n",
    "    if(i>a):\n",
    "        b+=1\n",
    "\n",
    "#Dias em que a perda foi superior ao VaR estimado\n",
    "\n",
    "b"
   ]
  },
  {
   "cell_type": "markdown",
   "id": "2df059f5",
   "metadata": {},
   "source": [
    "Calculados os dias em que a perda superou o VaR, faremos agora uma proporção desta contagem com os dias totais observados na amostra e, com isso, encontramos uma porcentagem de aproximandamente 5% das observações onde a perda excedeu o VaR estimado."
   ]
  },
  {
   "cell_type": "code",
   "execution_count": 11,
   "id": "bacc5e32",
   "metadata": {},
   "outputs": [
    {
     "data": {
      "text/plain": [
       "0.056"
      ]
     },
     "execution_count": 11,
     "metadata": {},
     "output_type": "execute_result"
    }
   ],
   "source": [
    "Fora_var = (b/len(Posicao.index))\n",
    "Fora_var\n"
   ]
  },
  {
   "cell_type": "markdown",
   "id": "255f7d3d",
   "metadata": {},
   "source": [
    "Logo, a partir dos cálculos realizados podemos observar que o modelo utilizado está dentro dos limites considerados, podendo ser utilizado para tomadas de decisões referentes a reservas de capitais, por exemplo, ou mesmo outras estratégias financeiras. \n",
    "No entanto, este modelo de certa forma ainda pode apresentar melhorias dado que podemos considerar uma superestimação deste, pois as observações que excedem o VaR ainda estão um pouco acima do nível de significância definido o que pode levar a uma alocação ineficiente de capital, fazendo com que reservas sejam realizadas com valores acima do necessário.\n",
    "\n",
    "Como dito no início de estudo, um dos principais objetivos de sua realização foi a consolidação do aprendizado em programação na liguagem Python, bem como sua aplicação em um campo de conhecimento na área em que atuo profissionalmente. Ainda assim, seria preciso um maior número de informações para tomada de decisões mais assertivas ou até mesmo a utilização de outros modelos para cálculo do VaR, dado que o modelo de Simulação Histórica possui alguns aspectos que deixam seus resultados menos rigorosos em comparação com outros modelos."
   ]
  }
 ],
 "metadata": {
  "kernelspec": {
   "display_name": "Python 3",
   "language": "python",
   "name": "python3"
  },
  "language_info": {
   "codemirror_mode": {
    "name": "ipython",
    "version": 3
   },
   "file_extension": ".py",
   "mimetype": "text/x-python",
   "name": "python",
   "nbconvert_exporter": "python",
   "pygments_lexer": "ipython3",
   "version": "3.8.8"
  }
 },
 "nbformat": 4,
 "nbformat_minor": 5
}
