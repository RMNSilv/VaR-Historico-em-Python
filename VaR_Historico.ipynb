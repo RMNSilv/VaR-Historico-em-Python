{
 "cells": [
  {
   "cell_type": "markdown",
   "id": "eecfd438",
   "metadata": {},
   "source": [
    "# Cálculo do VaR para uma carteira de ações"
   ]
  },
  {
   "cell_type": "raw",
   "id": "81e07936",
   "metadata": {},
   "source": [
    "# Este estudo foi realizado com o objetivo de consolidar meus aprendizados em programação Python, aplicando tais conhecimentos  em um assunto relacionado a Finanças, área a qual atuo profissionalmente e que também já realizei algumas formações.\n",
    "\n",
    "Fazendo uma breve introdução do assunto abordado, podemos  definir o VaR (Value at Risk ou Valor em Risco) como um indicador de risco que estima o potencial de perda máxima de um ativo ou mesmo carteiras de ativos para um determinado horizonte de tempo e certo nível de confiança.\n",
    "\n",
    "Para melhor entendimento, imagine uma carteira de investimentos com um VaR de R$ 5 milhões para 1 dia, considerando um nível de confiança de 95%, isto siginifica que a maior perda que esta carteira de investimentos pode ter neste dia é de R$ 5 milhões, porém como uma chance de 5% de essa perda superar os R$ 5 milhões.\n",
    "\n",
    "Desta forma, simulei um pequeno portfólio de ações a fim de realizar tal cálculo, selecionando papéis de empresas de setores diversos com o objetivo de reduzir os riscos da carteira. Sendo escolhidas as ações do Grupo CCR (Infraestrutura), Banco do Brasil (Bancário), JBS (Alimentos) e TIM (Telecomunicações).\n",
    "\n",
    "Utilizei o modelo de simulações históricas para o cálculo do VaR e, em seguida, realizei o Back Testing para sua validação.\n",
    "\n",
    "Os dados referentes a estes papéis foram obtidos a partir da instalação do API do Yahoo Finance, possibilitando a importação das informações relativas a eles no período desejado."
   ]
  },
  {
   "cell_type": "code",
   "execution_count": 2,
   "id": "d78a5f42",
   "metadata": {},
   "outputs": [
    {
     "name": "stdout",
     "output_type": "stream",
     "text": [
      "Requirement already satisfied: yfinance in c:\\users\\diego\\anaconda3\\lib\\site-packages (0.1.74)\n",
      "Requirement already satisfied: numpy>=1.15 in c:\\users\\diego\\anaconda3\\lib\\site-packages (from yfinance) (1.20.1)\n",
      "Requirement already satisfied: pandas>=0.24.0 in c:\\users\\diego\\anaconda3\\lib\\site-packages (from yfinance) (1.2.4)\n",
      "Requirement already satisfied: requests>=2.26 in c:\\users\\diego\\anaconda3\\lib\\site-packages (from yfinance) (2.28.1)\n",
      "Requirement already satisfied: lxml>=4.5.1 in c:\\users\\diego\\anaconda3\\lib\\site-packages (from yfinance) (4.6.3)\n",
      "Requirement already satisfied: multitasking>=0.0.7 in c:\\users\\diego\\anaconda3\\lib\\site-packages (from yfinance) (0.0.11)\n",
      "Requirement already satisfied: python-dateutil>=2.7.3 in c:\\users\\diego\\anaconda3\\lib\\site-packages (from pandas>=0.24.0->yfinance) (2.8.1)\n",
      "Requirement already satisfied: pytz>=2017.3 in c:\\users\\diego\\anaconda3\\lib\\site-packages (from pandas>=0.24.0->yfinance) (2021.1)\n",
      "Requirement already satisfied: six>=1.5 in c:\\users\\diego\\anaconda3\\lib\\site-packages (from python-dateutil>=2.7.3->pandas>=0.24.0->yfinance) (1.15.0)\n",
      "Requirement already satisfied: urllib3<1.27,>=1.21.1 in c:\\users\\diego\\anaconda3\\lib\\site-packages (from requests>=2.26->yfinance) (1.26.4)\n",
      "Requirement already satisfied: charset-normalizer<3,>=2 in c:\\users\\diego\\anaconda3\\lib\\site-packages (from requests>=2.26->yfinance) (2.1.0)\n",
      "Requirement already satisfied: idna<4,>=2.5 in c:\\users\\diego\\anaconda3\\lib\\site-packages (from requests>=2.26->yfinance) (2.10)\n",
      "Requirement already satisfied: certifi>=2017.4.17 in c:\\users\\diego\\anaconda3\\lib\\site-packages (from requests>=2.26->yfinance) (2020.12.5)\n",
      "Requirement already satisfied: yahoofinancials in c:\\users\\diego\\anaconda3\\lib\\site-packages (1.6)\n",
      "Requirement already satisfied: beautifulsoup4 in c:\\users\\diego\\anaconda3\\lib\\site-packages (from yahoofinancials) (4.9.3)\n",
      "Requirement already satisfied: pytz in c:\\users\\diego\\anaconda3\\lib\\site-packages (from yahoofinancials) (2021.1)\n",
      "Requirement already satisfied: soupsieve>1.2 in c:\\users\\diego\\anaconda3\\lib\\site-packages (from beautifulsoup4->yahoofinancials) (2.2.1)\n"
     ]
    }
   ],
   "source": [
    "!pip install yfinance\n",
    "!pip install yahoofinancials\n",
    "import yfinance as yf\n",
    "import pandas as pd\n",
    "import numpy as np\n",
    "import math as mt"
   ]
  },
  {
   "cell_type": "markdown",
   "id": "145c6ec1",
   "metadata": {},
   "source": [
    "Após a instalação do API yfinance, definimos uma variável para o Ticker de cada ação a fim de facilitar a utilização desta informação nos trechos seguintes do programa.\n",
    "\n",
    "Em seguida, fora extraido os dados históricos dos papéis escolhidos para um período desejado e podemos observar que nesta parte já utilizamos a variável definida para o Ticker do papél."
   ]
  },
  {
   "cell_type": "code",
   "execution_count": 3,
   "id": "3ef666ca",
   "metadata": {},
   "outputs": [],
   "source": [
    "CCR = yf.Ticker('CCRO3.SA')\n",
    "BB = yf.Ticker('BBAS3.SA')\n",
    "JBS = yf.Ticker('JBSS3.SA')\n",
    "TIM = yf.Ticker('TIMS3.SA')\n",
    "\n",
    "CCR_data = CCR.history( start ='2021-06-30', end = '2022-07-01')\n",
    "BB_data = BB.history(  start ='2021-06-30', end = '2022-07-01')\n",
    "JBS_data = JBS.history( start ='2021-06-30', end = '2022-07-01')\n",
    "TIM_data = TIM.history( start ='2021-06-30', end = '2022-07-01')\n"
   ]
  },
  {
   "cell_type": "markdown",
   "id": "0b08f34e",
   "metadata": {},
   "source": [
    "Neste trecho, já realizamos alguns cálculos e tratamentos nos dados obtidos para realizar os respectivos cálculos do VaR. \n",
    "\n",
    "Inicialmente, fora realizado o cálculo da Rentabilidade diária das ações, no período considerado, dividindo o preço da ação de um dia pelo preço dela no dia anterior, menos 1."
   ]
  },
  {
   "cell_type": "code",
   "execution_count": 4,
   "id": "b2ab68a1",
   "metadata": {},
   "outputs": [],
   "source": [
    "CCR_data['RetornoC'] = (CCR_data['Close']/CCR_data['Close'].shift(-1))-1\n",
    "BB_data['RetornoB'] = (BB_data['Close']/BB_data['Close'].shift(-1))-1\n",
    "JBS_data['RetornoJ'] = (JBS_data['Close']/JBS_data['Close'].shift(-1))-1\n",
    "TIM_data['RetornoT'] = (TIM_data['Close']/TIM_data['Close'].shift(-1))-1\n"
   ]
  },
  {
   "cell_type": "markdown",
   "id": "4201778e",
   "metadata": {},
   "source": [
    "Em seguida, realizei alguns tratamentos com o objetivo de reduzir as informações presentes nas tabelas extraídas, assim como, criar outras variáveis que serão utilizadas ao longo do programa.\n",
    "\n",
    "- Primeiramente, retirei algumas colunas presentes nos históricos extraídos e que não serão utilizadas neste estudo.\n",
    "\n",
    "\n",
    "- Como no primeiro dia da série, não temos o dia anterior para calcular o retorno da ação, com isso, o campo de retorno ficou com valor NaN, o  que poderia comprometer outros cálculos, por isso, esses campos foram preenchidos com 0 para não interferir no desenvolvimento da simulação.\n",
    "\n",
    "\n",
    "- Por último, defini uma coluna para índices destas tabelas, visando facilitar na manipulação das mesmas, pois antes estavam como índices as datas dos períodos extraídos, o que prejudicaria em alguns cálculos.\n",
    "  \n",
    "  \n",
    "  "
   ]
  },
  {
   "cell_type": "code",
   "execution_count": 5,
   "id": "51b0112a",
   "metadata": {},
   "outputs": [],
   "source": [
    "CCR = CCR_data.drop(columns=['Open','High','Low','Volume','Dividends','Stock Splits'])\n",
    "BB = BB_data.drop(columns=['Open','High','Low','Volume','Dividends','Stock Splits'])\n",
    "JBS = JBS_data.drop(columns=['Open','High','Low','Volume','Dividends','Stock Splits'])\n",
    "TIM = TIM_data.drop(columns=['Open','High','Low','Volume','Dividends','Stock Splits'])\n",
    "\n",
    "\n",
    "CCR['RetornoC'] = CCR['RetornoC'].fillna(0)\n",
    "BB['RetornoB'] = BB['RetornoB'].fillna(0)\n",
    "JBS['RetornoJ'] = JBS['RetornoJ'].fillna(0)\n",
    "TIM['RetornoT'] = TIM['RetornoT'].fillna(0)\n",
    "\n",
    "CCR.index = range(250)\n",
    "BB.index = range(250)\n",
    "JBS.index = range(250)\n",
    "TIM.index = range(250)"
   ]
  },
  {
   "cell_type": "code",
   "execution_count": 6,
   "id": "9ae3799d",
   "metadata": {},
   "outputs": [
    {
     "data": {
      "text/plain": [
       "250"
      ]
     },
     "execution_count": 6,
     "metadata": {},
     "output_type": "execute_result"
    }
   ],
   "source": [
    "tamanho = len(CCR.index)\n",
    "tamanho"
   ]
  },
  {
   "cell_type": "markdown",
   "id": "342b4ef6",
   "metadata": {},
   "source": [
    "Tendo em vista uma melhor manipulação e utilização dos retornos calculados, transformei em séries as colunas referentes a eles nas tabelas extraídas."
   ]
  },
  {
   "cell_type": "code",
   "execution_count": 7,
   "id": "e48831d6",
   "metadata": {},
   "outputs": [],
   "source": [
    "CCR_S = pd.Series(CCR['RetornoC'], name = 'CCR')\n",
    "BB_S = pd.Series(BB['RetornoB'], name = 'BB')\n",
    "JBS_S = pd.Series(JBS['RetornoJ'], name = 'JBS')\n",
    "TIM_S = pd.Series(TIM['RetornoT'], name = 'TIM')"
   ]
  },
  {
   "cell_type": "markdown",
   "id": "edf51c57",
   "metadata": {},
   "source": [
    "Dado que estou considerando um nível de confiança de 95%, precisamos calcular para cada papel, o retorno que abaixo dele estão \n",
    "5% dos piores retornos observados, sendo a partir deste valor que calcularemos o VaR. \n",
    "\n",
    "Multiplicação por -1, realizada para facilitar o cálculo do VaR nos passos seguintes."
   ]
  },
  {
   "cell_type": "code",
   "execution_count": 24,
   "id": "a970cd8d",
   "metadata": {},
   "outputs": [],
   "source": [
    "CCR_P = np.percentile(CCR_S, 5)*(-1)\n",
    "BB_P = np.percentile(BB_S, 5)*(-1)\n",
    "JBS_P = np.percentile(JBS_S, 5)*(-1)\n",
    "TIM_P = np.percentile(TIM_S, 5)*(-1)"
   ]
  },
  {
   "cell_type": "code",
   "execution_count": null,
   "id": "96a1b80b",
   "metadata": {},
   "outputs": [],
   "source": [
    "Desta forma, calculado o Percentil que representa a perda máxima em 95% das vezes, podemos agora definir a perda máxima em um\n",
    "dia, em termos monetários.\n",
    "\n",
    "Primeiro, obtemos o volume de cada papel no dia que estamos calculando o VaR que neste caso é '01-07-2022'.\n",
    "Cada papel apresenta uma quantidade de 1000 unidades."
   ]
  },
  {
   "cell_type": "code",
   "execution_count": 11,
   "id": "2d081f7e",
   "metadata": {},
   "outputs": [],
   "source": [
    "Qt = 1000"
   ]
  },
  {
   "cell_type": "code",
   "execution_count": 12,
   "id": "7ef3a8b4",
   "metadata": {},
   "outputs": [],
   "source": [
    "volumeC = CCR.iloc[20,0] * Qt\n",
    "volumeB = BB.iloc[20,0] * Qt\n",
    "volumeJ = JBS.iloc[20,0] * Qt\n",
    "volumeT = TIM.iloc[20,0] * Qt"
   ]
  },
  {
   "cell_type": "code",
   "execution_count": 25,
   "id": "b5c788f3",
   "metadata": {},
   "outputs": [],
   "source": [
    "varC = volumeC * CCR_P\n",
    "varB = volumeB * BB_P\n",
    "varJ = volumeJ * JBS_P\n",
    "varT = volumeT * TIM_P"
   ]
  },
  {
   "cell_type": "code",
   "execution_count": 26,
   "id": "3e2af182",
   "metadata": {},
   "outputs": [
    {
     "data": {
      "text/plain": [
       "2559.0865104375234"
      ]
     },
     "execution_count": 26,
     "metadata": {},
     "output_type": "execute_result"
    }
   ],
   "source": [
    "var = varC + varB + varJ + varT\n",
    "var"
   ]
  },
  {
   "cell_type": "code",
   "execution_count": null,
   "id": "39ba7c49",
   "metadata": {},
   "outputs": [],
   "source": [
    "Calculado o VaR, precisamos agora fazer o Back Testing do modelo utilizado, com o objetivo de validá-lo. Isto é realizado \n",
    "a partir do levantamento da quantidade de dias que excederam a perda estimada no VaR, e com isso, espera-se que estejam em\n",
    "uma porcentagem igual ou aproximada ao nível de significância, neste estudo é de 5%."
   ]
  },
  {
   "cell_type": "code",
   "execution_count": null,
   "id": "e9a3bde6",
   "metadata": {},
   "outputs": [],
   "source": [
    "Desta forma, de início, calculei os volumes diários dos papéis que compõem a carteira, utilizando a quantidade definida e as\n",
    "cotações diárias extraídas. E, em seguida, obtemos a posição total da carteira por dia, somando as posições desses papéis."
   ]
  },
  {
   "cell_type": "code",
   "execution_count": 27,
   "id": "d035f9ce",
   "metadata": {},
   "outputs": [
    {
     "data": {
      "text/plain": [
       "0      80083.174706\n",
       "1      79720.569611\n",
       "2      80398.632050\n",
       "3      80084.711075\n",
       "4      78632.308960\n",
       "           ...     \n",
       "245    90789.999962\n",
       "246    91620.001793\n",
       "247    91839.999199\n",
       "248    90950.000763\n",
       "249    90260.001183\n",
       "Name: Cart, Length: 250, dtype: float64"
      ]
     },
     "execution_count": 27,
     "metadata": {},
     "output_type": "execute_result"
    }
   ],
   "source": [
    "CCR_V = pd.Series(CCR['Close']*Qt, name = 'CCR_V')\n",
    "BB_V = pd.Series(BB['Close']*Qt, name = 'BB_V')\n",
    "JBS_V = pd.Series(JBS['Close']*Qt, name = 'JBS_V')\n",
    "TIM_V = pd.Series(TIM['Close']*Qt, name = 'TIM_V')\n",
    "\n",
    "\n",
    "Cart = pd.Series(CCR_V + BB_V + JBS_V + TIM_V, name = 'Cart')\n",
    "Cart\n"
   ]
  },
  {
   "cell_type": "code",
   "execution_count": null,
   "id": "6657ebce",
   "metadata": {},
   "outputs": [],
   "source": [
    "Encontradas as posições diárias da carteira, podemos calcular o retorno diário desta para que possamos compará-los com o VaR."
   ]
  },
  {
   "cell_type": "code",
   "execution_count": 28,
   "id": "fb724a95",
   "metadata": {},
   "outputs": [
    {
     "data": {
      "text/html": [
       "<div>\n",
       "<style scoped>\n",
       "    .dataframe tbody tr th:only-of-type {\n",
       "        vertical-align: middle;\n",
       "    }\n",
       "\n",
       "    .dataframe tbody tr th {\n",
       "        vertical-align: top;\n",
       "    }\n",
       "\n",
       "    .dataframe thead th {\n",
       "        text-align: right;\n",
       "    }\n",
       "</style>\n",
       "<table border=\"1\" class=\"dataframe\">\n",
       "  <thead>\n",
       "    <tr style=\"text-align: right;\">\n",
       "      <th></th>\n",
       "      <th>Cart</th>\n",
       "      <th>Retorn</th>\n",
       "    </tr>\n",
       "  </thead>\n",
       "  <tbody>\n",
       "    <tr>\n",
       "      <th>0</th>\n",
       "      <td>80083.174706</td>\n",
       "      <td>0.000000</td>\n",
       "    </tr>\n",
       "    <tr>\n",
       "      <th>1</th>\n",
       "      <td>79720.569611</td>\n",
       "      <td>362.605095</td>\n",
       "    </tr>\n",
       "    <tr>\n",
       "      <th>2</th>\n",
       "      <td>80398.632050</td>\n",
       "      <td>-678.062439</td>\n",
       "    </tr>\n",
       "    <tr>\n",
       "      <th>3</th>\n",
       "      <td>80084.711075</td>\n",
       "      <td>313.920975</td>\n",
       "    </tr>\n",
       "    <tr>\n",
       "      <th>4</th>\n",
       "      <td>78632.308960</td>\n",
       "      <td>1452.402115</td>\n",
       "    </tr>\n",
       "    <tr>\n",
       "      <th>...</th>\n",
       "      <td>...</td>\n",
       "      <td>...</td>\n",
       "    </tr>\n",
       "    <tr>\n",
       "      <th>245</th>\n",
       "      <td>90789.999962</td>\n",
       "      <td>-351.634979</td>\n",
       "    </tr>\n",
       "    <tr>\n",
       "      <th>246</th>\n",
       "      <td>91620.001793</td>\n",
       "      <td>-830.001831</td>\n",
       "    </tr>\n",
       "    <tr>\n",
       "      <th>247</th>\n",
       "      <td>91839.999199</td>\n",
       "      <td>-219.997406</td>\n",
       "    </tr>\n",
       "    <tr>\n",
       "      <th>248</th>\n",
       "      <td>90950.000763</td>\n",
       "      <td>889.998436</td>\n",
       "    </tr>\n",
       "    <tr>\n",
       "      <th>249</th>\n",
       "      <td>90260.001183</td>\n",
       "      <td>689.999580</td>\n",
       "    </tr>\n",
       "  </tbody>\n",
       "</table>\n",
       "<p>250 rows × 2 columns</p>\n",
       "</div>"
      ],
      "text/plain": [
       "             Cart       Retorn\n",
       "0    80083.174706     0.000000\n",
       "1    79720.569611   362.605095\n",
       "2    80398.632050  -678.062439\n",
       "3    80084.711075   313.920975\n",
       "4    78632.308960  1452.402115\n",
       "..            ...          ...\n",
       "245  90789.999962  -351.634979\n",
       "246  91620.001793  -830.001831\n",
       "247  91839.999199  -219.997406\n",
       "248  90950.000763   889.998436\n",
       "249  90260.001183   689.999580\n",
       "\n",
       "[250 rows x 2 columns]"
      ]
     },
     "execution_count": 28,
     "metadata": {},
     "output_type": "execute_result"
    }
   ],
   "source": [
    "Btest = pd.DataFrame(Cart)\n",
    "Btest['Retorn'] = (Btest['Cart'].shift(1) - Btest['Cart'])\n",
    "Btest['Retorn'] = Btest['Retorn'].fillna(0)\n",
    "Btest"
   ]
  },
  {
   "cell_type": "markdown",
   "id": "97a646fa",
   "metadata": {},
   "source": [
    "Para comparação dos retornos diários com o VaR foi preciso utilizar uma estrutura de Looping For, onde inicializamos uma variável com receberá o valor do VaR (a) e outra variável inicializada como zero e que ao longo do Loop receberá a contagem dos dias que a perda da carteira foi superior ao VaR (b)."
   ]
  },
  {
   "cell_type": "code",
   "execution_count": 29,
   "id": "74e4d658",
   "metadata": {},
   "outputs": [
    {
     "data": {
      "text/plain": [
       "2559.0865104375234"
      ]
     },
     "execution_count": 29,
     "metadata": {},
     "output_type": "execute_result"
    }
   ],
   "source": [
    "a = var\n",
    "\n",
    "Btest['Var'] = a\n",
    "a"
   ]
  },
  {
   "cell_type": "code",
   "execution_count": 31,
   "id": "4846d532",
   "metadata": {},
   "outputs": [],
   "source": [
    "Carteira = Btest['Retorn'].tolist()\n",
    "b=0\n",
    "for i in Carteira:\n",
    "    if(i>a):\n",
    "        b+=1"
   ]
  },
  {
   "cell_type": "code",
   "execution_count": null,
   "id": "90586a7f",
   "metadata": {},
   "outputs": [],
   "source": [
    "Calculados os dias em que a perda superou o VaR, fazemos agora uma proporção desta contagem com os dias totais observados na \n",
    "amostra e, com isso, encontramos que em aproximadamente 4% das observações a perda excedeu o VaR estimado."
   ]
  },
  {
   "cell_type": "code",
   "execution_count": 32,
   "id": "bacc5e32",
   "metadata": {},
   "outputs": [
    {
     "data": {
      "text/plain": [
       "0.04"
      ]
     },
     "execution_count": 32,
     "metadata": {},
     "output_type": "execute_result"
    }
   ],
   "source": [
    "Fora_var = (b/len(Btest.index))\n",
    "Fora_var\n"
   ]
  },
  {
   "cell_type": "markdown",
   "id": "255f7d3d",
   "metadata": {},
   "source": [
    "Logo, a partir dos cálculos realizados podemos observar que o modelo utilizado está dentro dos limites considerados, podendo ser utilizado para tomadas de decisões referentes a reservas de capitais, por exemplo, ou mesmo outras estratégias financeiras. \n",
    "No entanto, este modelo de certa forma ainda pode apresentar melhorias dado que podemos considerar uma superestimação deste, pois as observações que excedem o VaR ainda estão abaixo do nível de significância definido o que pode levar a uma alocação ineficiente de capital, fazendo com que reservas sejam realizadas com valores acima do necessário.\n",
    "\n",
    "Como dito no início de estudo, um dos principais objetivos de sua realização foi a consolidação do aprendizado em programação na liguagem Python, bem como sua aplicação em um campo de conhecimento na área em que atuo profissionalmente. Ainda assim, seria preciso um maior número de informações para tomada de decisões mais assertivas ou até mesmo a utilização de outros modelos para cálculo do VaR, dado que o modelo de Simulação Histórica possui alguns aspectos que deixam seus resultados menos rigorosos em comparação com outros modelos."
   ]
  }
 ],
 "metadata": {
  "kernelspec": {
   "display_name": "Python 3",
   "language": "python",
   "name": "python3"
  },
  "language_info": {
   "codemirror_mode": {
    "name": "ipython",
    "version": 3
   },
   "file_extension": ".py",
   "mimetype": "text/x-python",
   "name": "python",
   "nbconvert_exporter": "python",
   "pygments_lexer": "ipython3",
   "version": "3.8.8"
  }
 },
 "nbformat": 4,
 "nbformat_minor": 5
}
